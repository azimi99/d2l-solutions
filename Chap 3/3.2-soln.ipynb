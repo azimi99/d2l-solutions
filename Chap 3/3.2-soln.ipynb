{
 "cells": [
  {
   "cell_type": "code",
   "execution_count": 6,
   "metadata": {},
   "outputs": [
    {
     "ename": "AttributeError",
     "evalue": "'B' object has no attribute 'a'",
     "output_type": "error",
     "traceback": [
      "\u001b[0;31m---------------------------------------------------------------------------\u001b[0m",
      "\u001b[0;31mAttributeError\u001b[0m                            Traceback (most recent call last)",
      "\u001b[1;32m/Users/alirezaazimi/Desktop/Quantum and AI/d2l-solutions/Chap 3/3.2-soln.ipynb Cell 1\u001b[0m line \u001b[0;36m8\n\u001b[1;32m      <a href='vscode-notebook-cell:/Users/alirezaazimi/Desktop/Quantum%20and%20AI/d2l-solutions/Chap%203/3.2-soln.ipynb#W0sZmlsZQ%3D%3D?line=5'>6</a>\u001b[0m         \u001b[39mprint\u001b[39m(\u001b[39m'\u001b[39m\u001b[39mself.a =\u001b[39m\u001b[39m'\u001b[39m, \u001b[39mself\u001b[39m\u001b[39m.\u001b[39ma, \u001b[39m'\u001b[39m\u001b[39mself.b =\u001b[39m\u001b[39m'\u001b[39m, \u001b[39mself\u001b[39m\u001b[39m.\u001b[39mb)\n\u001b[1;32m      <a href='vscode-notebook-cell:/Users/alirezaazimi/Desktop/Quantum%20and%20AI/d2l-solutions/Chap%203/3.2-soln.ipynb#W0sZmlsZQ%3D%3D?line=6'>7</a>\u001b[0m         \u001b[39mprint\u001b[39m(\u001b[39m'\u001b[39m\u001b[39mThere is no self.c =\u001b[39m\u001b[39m'\u001b[39m, \u001b[39mnot\u001b[39;00m \u001b[39mhasattr\u001b[39m(\u001b[39mself\u001b[39m, \u001b[39m'\u001b[39m\u001b[39mc\u001b[39m\u001b[39m'\u001b[39m))\n\u001b[0;32m----> <a href='vscode-notebook-cell:/Users/alirezaazimi/Desktop/Quantum%20and%20AI/d2l-solutions/Chap%203/3.2-soln.ipynb#W0sZmlsZQ%3D%3D?line=7'>8</a>\u001b[0m b \u001b[39m=\u001b[39m B(\u001b[39m1\u001b[39;49m,\u001b[39m2\u001b[39;49m,\u001b[39m3\u001b[39;49m)\n",
      "\u001b[1;32m/Users/alirezaazimi/Desktop/Quantum and AI/d2l-solutions/Chap 3/3.2-soln.ipynb Cell 1\u001b[0m line \u001b[0;36m6\n\u001b[1;32m      <a href='vscode-notebook-cell:/Users/alirezaazimi/Desktop/Quantum%20and%20AI/d2l-solutions/Chap%203/3.2-soln.ipynb#W0sZmlsZQ%3D%3D?line=3'>4</a>\u001b[0m \u001b[39mdef\u001b[39;00m \u001b[39m__init__\u001b[39m(\u001b[39mself\u001b[39m, a, b, c):\n\u001b[1;32m      <a href='vscode-notebook-cell:/Users/alirezaazimi/Desktop/Quantum%20and%20AI/d2l-solutions/Chap%203/3.2-soln.ipynb#W0sZmlsZQ%3D%3D?line=4'>5</a>\u001b[0m     \u001b[39m# self.save_hyperparameters(ignore=['c'])\u001b[39;00m\n\u001b[0;32m----> <a href='vscode-notebook-cell:/Users/alirezaazimi/Desktop/Quantum%20and%20AI/d2l-solutions/Chap%203/3.2-soln.ipynb#W0sZmlsZQ%3D%3D?line=5'>6</a>\u001b[0m     \u001b[39mprint\u001b[39m(\u001b[39m'\u001b[39m\u001b[39mself.a =\u001b[39m\u001b[39m'\u001b[39m, \u001b[39mself\u001b[39;49m\u001b[39m.\u001b[39;49ma, \u001b[39m'\u001b[39m\u001b[39mself.b =\u001b[39m\u001b[39m'\u001b[39m, \u001b[39mself\u001b[39m\u001b[39m.\u001b[39mb)\n\u001b[1;32m      <a href='vscode-notebook-cell:/Users/alirezaazimi/Desktop/Quantum%20and%20AI/d2l-solutions/Chap%203/3.2-soln.ipynb#W0sZmlsZQ%3D%3D?line=6'>7</a>\u001b[0m     \u001b[39mprint\u001b[39m(\u001b[39m'\u001b[39m\u001b[39mThere is no self.c =\u001b[39m\u001b[39m'\u001b[39m, \u001b[39mnot\u001b[39;00m \u001b[39mhasattr\u001b[39m(\u001b[39mself\u001b[39m, \u001b[39m'\u001b[39m\u001b[39mc\u001b[39m\u001b[39m'\u001b[39m))\n",
      "\u001b[0;31mAttributeError\u001b[0m: 'B' object has no attribute 'a'"
     ]
    }
   ],
   "source": [
    "# Q2\n",
    "from d2l import torch as d2l\n",
    "class B(d2l.HyperParameters):\n",
    "    def __init__(self, a, b, c):\n",
    "        # self.save_hyperparameters(ignore=['c'])\n",
    "        print('self.a =', self.a, 'self.b =', self.b)\n",
    "        print('There is no self.c =', not hasattr(self, 'c'))\n",
    "b = B(1,2,3)\n"
   ]
  },
  {
   "cell_type": "markdown",
   "metadata": {},
   "source": [
    "The code above produces an error. Because due to the implementation of HyperParameters class, the attributes won't get initialized in the super-class, and they are not being\n",
    "initialized int __init__()."
   ]
  }
 ],
 "metadata": {
  "kernelspec": {
   "display_name": "ml",
   "language": "python",
   "name": "python3"
  },
  "language_info": {
   "codemirror_mode": {
    "name": "ipython",
    "version": 3
   },
   "file_extension": ".py",
   "mimetype": "text/x-python",
   "name": "python",
   "nbconvert_exporter": "python",
   "pygments_lexer": "ipython3",
   "version": "3.11.4"
  }
 },
 "nbformat": 4,
 "nbformat_minor": 2
}
