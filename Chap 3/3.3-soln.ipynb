{
 "cells": [
  {
   "cell_type": "markdown",
   "metadata": {},
   "source": [
    "## Question 1\n",
    "Certain batch index would be out of range\n",
    "Use the following\n",
    "torch.utils.data.DataLoader(dataset, self.batch_size,\n",
    "                                       shuffle=train, drop_last=True)\n"
   ]
  },
  {
   "cell_type": "code",
   "execution_count": 5,
   "metadata": {},
   "outputs": [],
   "source": [
    "from d2l import torch as d2l\n",
    "import torch\n",
    "import random"
   ]
  },
  {
   "cell_type": "code",
   "execution_count": 4,
   "metadata": {},
   "outputs": [
    {
     "name": "stdout",
     "output_type": "stream",
     "text": [
      "features: tensor([ 0.8312, -0.0308]) \n",
      "label: tensor([6.1702])\n"
     ]
    }
   ],
   "source": [
    "\n",
    "# Question 3\n",
    "class SyntheticRegressionData(d2l.DataModule):\n",
    "    def __init__(self, w, b, noise = 0.01, num_train=1000, num_val=1000, batch_size=32):\n",
    "        super().__init__()\n",
    "        self.save_hyperparameters()\n",
    "    def data_loader(self):\n",
    "        n = self.num_train + self.num_val\n",
    "        self.X = torch.randn(n, len(self.w))\n",
    "        noise = torch.randn(n, 1) * self.noise\n",
    "        self.y = torch.matmul(self.X, self.w.reshape((-1, 1))) + self.b\n",
    "\n",
    "dataGen = SyntheticRegressionData(torch.tensor([2.5, 3.5]), b=4.2)\n",
    "dataGen.data_loader()\n",
    "print('features:', dataGen.X[0],'\\nlabel:', dataGen.y[0])"
   ]
  },
  {
   "cell_type": "code",
   "execution_count": 7,
   "metadata": {},
   "outputs": [
    {
     "name": "stdout",
     "output_type": "stream",
     "text": [
      "features: tensor([-1.0408,  0.9166]) \n",
      "label: tensor([4.8061])\n"
     ]
    }
   ],
   "source": [
    "\n",
    "# Question 3\n",
    "torch.manual_seed(2)\n",
    "class SyntheticRegressionData(d2l.DataModule):\n",
    "    def __init__(self, w, b, noise = 0.01, num_train=1000, num_val=1000, batch_size=32):\n",
    "        super().__init__()\n",
    "        self.save_hyperparameters()\n",
    "    def data_loader(self):\n",
    "        n = self.num_train + self.num_val\n",
    "        self.X = torch.randn(n, len(self.w))\n",
    "        noise = torch.randn(n, 1) * self.noise\n",
    "        self.y = torch.matmul(self.X, self.w.reshape((-1, 1))) + self.b\n",
    "\n",
    "dataGen = SyntheticRegressionData(torch.tensor([2.5, 3.5]), b=4.2)\n",
    "dataGen.data_loader()\n",
    "print('features:', dataGen.X[0],'\\nlabel:', dataGen.y[0])"
   ]
  }
 ],
 "metadata": {
  "kernelspec": {
   "display_name": "ml",
   "language": "python",
   "name": "python3"
  },
  "language_info": {
   "codemirror_mode": {
    "name": "ipython",
    "version": 3
   },
   "file_extension": ".py",
   "mimetype": "text/x-python",
   "name": "python",
   "nbconvert_exporter": "python",
   "pygments_lexer": "ipython3",
   "version": "3.11.4"
  }
 },
 "nbformat": 4,
 "nbformat_minor": 2
}
